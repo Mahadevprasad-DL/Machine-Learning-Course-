{
  "nbformat": 4,
  "nbformat_minor": 0,
  "metadata": {
    "colab": {
      "provenance": []
    },
    "kernelspec": {
      "name": "python3",
      "display_name": "Python 3"
    },
    "language_info": {
      "name": "python"
    }
  },
  "cells": [
    {
      "cell_type": "markdown",
      "source": [
        "Programming Languages used for Machine Learning:<br>\n",
        "    1. Python <br>\n",
        "    2. R"
      ],
      "metadata": {
        "id": "BH_LNuTn9bPF"
      }
    },
    {
      "cell_type": "markdown",
      "source": [
        "# Print Function"
      ],
      "metadata": {
        "id": "UAuO4TCu97sJ"
      }
    },
    {
      "cell_type": "code",
      "execution_count": null,
      "metadata": {
        "colab": {
          "base_uri": "https://localhost:8080/"
        },
        "id": "rNzNyVy99SNy",
        "outputId": "b0b798ea-d62e-4939-f9ac-fbc2dc115f12"
      },
      "outputs": [
        {
          "output_type": "stream",
          "name": "stdout",
          "text": [
            "Hello world\n"
          ]
        }
      ],
      "source": [
        "print(\"Hello world\")"
      ]
    },
    {
      "cell_type": "code",
      "source": [
        "print(\"Machine learning\" + \" Projects\")"
      ],
      "metadata": {
        "colab": {
          "base_uri": "https://localhost:8080/"
        },
        "id": "PQob5O-z-M_8",
        "outputId": "5cab13a6-07eb-483f-f1b3-4508bff4d343"
      },
      "execution_count": null,
      "outputs": [
        {
          "output_type": "stream",
          "name": "stdout",
          "text": [
            "Machine learning Projects\n"
          ]
        }
      ]
    },
    {
      "cell_type": "code",
      "source": [
        "print(8)"
      ],
      "metadata": {
        "id": "7ub6cMcB-lKB",
        "colab": {
          "base_uri": "https://localhost:8080/"
        },
        "outputId": "c425efd3-a628-4020-8cdc-61d973dcb29a"
      },
      "execution_count": 1,
      "outputs": [
        {
          "output_type": "stream",
          "name": "stdout",
          "text": [
            "8\n"
          ]
        }
      ]
    },
    {
      "cell_type": "code",
      "source": [
        "print(8+5)"
      ],
      "metadata": {
        "colab": {
          "base_uri": "https://localhost:8080/"
        },
        "id": "MTHEMksUEngh",
        "outputId": "0762714e-1c34-47f7-bb69-6dd0985670c2"
      },
      "execution_count": 2,
      "outputs": [
        {
          "output_type": "stream",
          "name": "stdout",
          "text": [
            "13\n"
          ]
        }
      ]
    },
    {
      "cell_type": "code",
      "source": [],
      "metadata": {
        "id": "MpNDvc25EzHm"
      },
      "execution_count": null,
      "outputs": []
    },
    {
      "cell_type": "markdown",
      "source": [
        "# Basic data Types <br>\n",
        "   1.  int <br>\n",
        "   2.  float <br>\n",
        "   3. string"
      ],
      "metadata": {
        "id": "iiratG3lFI5a"
      }
    },
    {
      "cell_type": "code",
      "source": [
        "type(10)\n"
      ],
      "metadata": {
        "colab": {
          "base_uri": "https://localhost:8080/"
        },
        "id": "od5j1_4wFPDb",
        "outputId": "408879c1-7659-45cb-e09f-07f2772219fb"
      },
      "execution_count": 6,
      "outputs": [
        {
          "output_type": "execute_result",
          "data": {
            "text/plain": [
              "int"
            ]
          },
          "metadata": {},
          "execution_count": 6
        }
      ]
    },
    {
      "cell_type": "code",
      "source": [
        "type(5.3)\n"
      ],
      "metadata": {
        "colab": {
          "base_uri": "https://localhost:8080/"
        },
        "id": "OZhhY6eAGMaV",
        "outputId": "5fe7efce-dbfc-45ba-a12a-5af8e431bf3e"
      },
      "execution_count": 7,
      "outputs": [
        {
          "output_type": "execute_result",
          "data": {
            "text/plain": [
              "float"
            ]
          },
          "metadata": {},
          "execution_count": 7
        }
      ]
    },
    {
      "cell_type": "code",
      "source": [
        "type(\"Chamarajanagara\")"
      ],
      "metadata": {
        "colab": {
          "base_uri": "https://localhost:8080/"
        },
        "id": "ZK6FwLwaGRL2",
        "outputId": "6ae2ff35-1687-4802-a74d-b1709a41259c"
      },
      "execution_count": 8,
      "outputs": [
        {
          "output_type": "execute_result",
          "data": {
            "text/plain": [
              "str"
            ]
          },
          "metadata": {},
          "execution_count": 8
        }
      ]
    },
    {
      "cell_type": "code",
      "source": [],
      "metadata": {
        "id": "jxUYhHMvGWy5"
      },
      "execution_count": 8,
      "outputs": []
    },
    {
      "cell_type": "markdown",
      "source": [
        "# Constants and Variables"
      ],
      "metadata": {
        "id": "g0uwJC-uGbzT"
      }
    },
    {
      "cell_type": "code",
      "source": [
        "Mycity = \" Chamarajanagara\"\n",
        "print(Mycity)"
      ],
      "metadata": {
        "colab": {
          "base_uri": "https://localhost:8080/"
        },
        "id": "23ceXB5dGnXo",
        "outputId": "139c5877-60c8-415a-ee81-4770a327b726"
      },
      "execution_count": 9,
      "outputs": [
        {
          "output_type": "stream",
          "name": "stdout",
          "text": [
            " Chamarajanagara\n"
          ]
        }
      ]
    },
    {
      "cell_type": "code",
      "source": [
        "Mycity = \"Santhemarahalli 571115\"\n",
        "print(Mycity)"
      ],
      "metadata": {
        "colab": {
          "base_uri": "https://localhost:8080/"
        },
        "id": "dentVYSUG0sR",
        "outputId": "7adb4905-3e9c-4da0-f41a-20c6ca6b9431"
      },
      "execution_count": 10,
      "outputs": [
        {
          "output_type": "stream",
          "name": "stdout",
          "text": [
            "Santhemarahalli 571115\n"
          ]
        }
      ]
    },
    {
      "cell_type": "code",
      "source": [
        "city1,city2,city3 = \"chamarajanagara\",\"Mysuru\",\"Mandya\"\n",
        "print(city1)\n",
        "print(city2)\n",
        "print(city3)"
      ],
      "metadata": {
        "colab": {
          "base_uri": "https://localhost:8080/"
        },
        "id": "T6CSYpQ5HSL8",
        "outputId": "21695eed-0441-4220-e605-0ad040e6940f"
      },
      "execution_count": 12,
      "outputs": [
        {
          "output_type": "stream",
          "name": "stdout",
          "text": [
            "chamarajanagara\n",
            "Mysuru\n",
            "Mandya\n"
          ]
        }
      ]
    },
    {
      "cell_type": "code",
      "source": [
        "x = y = z = 14\n",
        "print(x)\n",
        "print(y)\n",
        "print(z)"
      ],
      "metadata": {
        "colab": {
          "base_uri": "https://localhost:8080/"
        },
        "id": "id_i9FL2H5ZF",
        "outputId": "e6a2d1d2-4c3e-4f81-a939-900c56e9c344"
      },
      "execution_count": 14,
      "outputs": [
        {
          "output_type": "stream",
          "name": "stdout",
          "text": [
            "14\n",
            "14\n",
            "14\n"
          ]
        }
      ]
    },
    {
      "cell_type": "markdown",
      "source": [
        "# Input Function"
      ],
      "metadata": {
        "id": "t-lYQQErIpmp"
      }
    },
    {
      "cell_type": "code",
      "source": [
        "number_1 = int(input(\"enter the first number :\"))\n",
        "number_2 = int(input(\"enter the second number :\"))\n",
        "sum = number_1 + number_2\n",
        "print(sum)"
      ],
      "metadata": {
        "colab": {
          "base_uri": "https://localhost:8080/"
        },
        "id": "BRedIhYhIpT6",
        "outputId": "f949bd21-ab20-4c71-fda6-1ca72aaf5cd8"
      },
      "execution_count": 21,
      "outputs": [
        {
          "output_type": "stream",
          "name": "stdout",
          "text": [
            "enter the first number :14\n",
            "enter the second number :06\n",
            "20\n"
          ]
        }
      ]
    },
    {
      "cell_type": "code",
      "source": [],
      "metadata": {
        "id": "93zcjC1aI6NC"
      },
      "execution_count": null,
      "outputs": []
    }
  ]
}