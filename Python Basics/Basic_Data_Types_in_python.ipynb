{
  "nbformat": 4,
  "nbformat_minor": 0,
  "metadata": {
    "colab": {
      "provenance": []
    },
    "kernelspec": {
      "name": "python3",
      "display_name": "Python 3"
    },
    "language_info": {
      "name": "python"
    }
  },
  "cells": [
    {
      "cell_type": "markdown",
      "source": [
        "# Basic Data Types in python <br>\n",
        "   1. integer\n",
        "   2. Floating Point\n",
        "   3. Complex\n",
        "   4. Boolean\n",
        "   5. String\n",
        "   "
      ],
      "metadata": {
        "id": "sH1K3_bvoVJe"
      }
    },
    {
      "cell_type": "code",
      "source": [
        "# integers\n",
        "a = 8\n",
        "print(a)"
      ],
      "metadata": {
        "colab": {
          "base_uri": "https://localhost:8080/"
        },
        "id": "3GoQoyocon7V",
        "outputId": "f3e7cc9a-235a-4acc-e68d-24ec0b64efd5"
      },
      "execution_count": 2,
      "outputs": [
        {
          "output_type": "stream",
          "name": "stdout",
          "text": [
            "8\n"
          ]
        }
      ]
    },
    {
      "cell_type": "code",
      "source": [
        "type(a)"
      ],
      "metadata": {
        "colab": {
          "base_uri": "https://localhost:8080/"
        },
        "id": "I4xJA-Myo0fc",
        "outputId": "d0161250-04c7-4a86-ef5a-26d8b6578610"
      },
      "execution_count": 3,
      "outputs": [
        {
          "output_type": "execute_result",
          "data": {
            "text/plain": [
              "int"
            ]
          },
          "metadata": {},
          "execution_count": 3
        }
      ]
    },
    {
      "cell_type": "code",
      "source": [
        "# floating point\n",
        "b = 2.5\n",
        "print(b)\n",
        "type(b)"
      ],
      "metadata": {
        "colab": {
          "base_uri": "https://localhost:8080/"
        },
        "id": "ajQBXd2ZpCt5",
        "outputId": "f96db90d-986e-4048-c129-c2de4b778802"
      },
      "execution_count": 6,
      "outputs": [
        {
          "output_type": "stream",
          "name": "stdout",
          "text": [
            "2.5\n"
          ]
        },
        {
          "output_type": "execute_result",
          "data": {
            "text/plain": [
              "float"
            ]
          },
          "metadata": {},
          "execution_count": 6
        }
      ]
    },
    {
      "cell_type": "code",
      "source": [
        "# Complex Number\n",
        "c = 1 + 14j\n",
        "print(c)\n",
        "type(c)"
      ],
      "metadata": {
        "colab": {
          "base_uri": "https://localhost:8080/"
        },
        "id": "sdw5xWPspPAc",
        "outputId": "b2973aa8-bd3f-4ed2-fd24-5add7523d3d2"
      },
      "execution_count": 8,
      "outputs": [
        {
          "output_type": "stream",
          "name": "stdout",
          "text": [
            "(1+14j)\n"
          ]
        },
        {
          "output_type": "execute_result",
          "data": {
            "text/plain": [
              "complex"
            ]
          },
          "metadata": {},
          "execution_count": 8
        }
      ]
    },
    {
      "cell_type": "markdown",
      "source": [
        "Conversion of one data type of another"
      ],
      "metadata": {
        "id": "pkZM8Mpopm__"
      }
    },
    {
      "cell_type": "code",
      "source": [
        "# int to float\n",
        "x = 10\n",
        "print(x)\n",
        "type(x)"
      ],
      "metadata": {
        "colab": {
          "base_uri": "https://localhost:8080/"
        },
        "id": "fLjXXVowpbb1",
        "outputId": "93e5befd-efd4-43d2-997f-169370d3b2ae"
      },
      "execution_count": 9,
      "outputs": [
        {
          "output_type": "stream",
          "name": "stdout",
          "text": [
            "10\n"
          ]
        },
        {
          "output_type": "execute_result",
          "data": {
            "text/plain": [
              "int"
            ]
          },
          "metadata": {},
          "execution_count": 9
        }
      ]
    },
    {
      "cell_type": "code",
      "source": [
        "y = float(x)\n",
        "print(y)\n",
        "type(y)"
      ],
      "metadata": {
        "colab": {
          "base_uri": "https://localhost:8080/"
        },
        "id": "rykIqCEGp3JM",
        "outputId": "63b9baf5-8414-474e-cba9-1a9c71933e43"
      },
      "execution_count": 10,
      "outputs": [
        {
          "output_type": "stream",
          "name": "stdout",
          "text": [
            "10.0\n"
          ]
        },
        {
          "output_type": "execute_result",
          "data": {
            "text/plain": [
              "float"
            ]
          },
          "metadata": {},
          "execution_count": 10
        }
      ]
    },
    {
      "cell_type": "code",
      "source": [
        "# float to int\n",
        "x = 8.4\n",
        "print(x)\n",
        "type(x)"
      ],
      "metadata": {
        "colab": {
          "base_uri": "https://localhost:8080/"
        },
        "id": "bW6Sx-BFqBkU",
        "outputId": "7d97a14c-7489-4b4e-8c99-42d95a31779a"
      },
      "execution_count": 11,
      "outputs": [
        {
          "output_type": "stream",
          "name": "stdout",
          "text": [
            "8.4\n"
          ]
        },
        {
          "output_type": "execute_result",
          "data": {
            "text/plain": [
              "float"
            ]
          },
          "metadata": {},
          "execution_count": 11
        }
      ]
    },
    {
      "cell_type": "code",
      "source": [
        "y = int(x)\n",
        "print(y)\n",
        "type(y)\n"
      ],
      "metadata": {
        "colab": {
          "base_uri": "https://localhost:8080/"
        },
        "id": "DCL8jLF2qM_g",
        "outputId": "044da3e7-dbfa-413e-eaaa-b3e1ed1e6f97"
      },
      "execution_count": 12,
      "outputs": [
        {
          "output_type": "stream",
          "name": "stdout",
          "text": [
            "8\n"
          ]
        },
        {
          "output_type": "execute_result",
          "data": {
            "text/plain": [
              "int"
            ]
          },
          "metadata": {},
          "execution_count": 12
        }
      ]
    },
    {
      "cell_type": "markdown",
      "source": [
        "Boolean\n",
        " 1. True\n",
        " 2. False"
      ],
      "metadata": {
        "id": "v-at0W97qfGl"
      }
    },
    {
      "cell_type": "code",
      "source": [
        "a = True\n",
        "print(a)\n",
        "type(a)\n"
      ],
      "metadata": {
        "colab": {
          "base_uri": "https://localhost:8080/"
        },
        "id": "-vUjWbGmqTRg",
        "outputId": "656dec73-38c7-49c9-b98c-d8e425a2de73"
      },
      "execution_count": 14,
      "outputs": [
        {
          "output_type": "stream",
          "name": "stdout",
          "text": [
            "True\n"
          ]
        },
        {
          "output_type": "execute_result",
          "data": {
            "text/plain": [
              "bool"
            ]
          },
          "metadata": {},
          "execution_count": 14
        }
      ]
    },
    {
      "cell_type": "code",
      "source": [
        "b = False\n",
        "print(b)\n",
        "type(b)"
      ],
      "metadata": {
        "colab": {
          "base_uri": "https://localhost:8080/"
        },
        "id": "Bx1nwOgUquUo",
        "outputId": "12ca63fe-db69-47bb-bf51-be4d5aa4a30c"
      },
      "execution_count": 17,
      "outputs": [
        {
          "output_type": "stream",
          "name": "stdout",
          "text": [
            "False\n"
          ]
        },
        {
          "output_type": "execute_result",
          "data": {
            "text/plain": [
              "bool"
            ]
          },
          "metadata": {},
          "execution_count": 17
        }
      ]
    },
    {
      "cell_type": "code",
      "source": [
        "a = 7 < 3\n",
        "print(a)\n",
        "type(a)"
      ],
      "metadata": {
        "colab": {
          "base_uri": "https://localhost:8080/"
        },
        "id": "nkOQs02J0P3c",
        "outputId": "ba6faa4f-c369-4bbd-880d-7d2669ac6325"
      },
      "execution_count": 18,
      "outputs": [
        {
          "output_type": "stream",
          "name": "stdout",
          "text": [
            "False\n"
          ]
        },
        {
          "output_type": "execute_result",
          "data": {
            "text/plain": [
              "bool"
            ]
          },
          "metadata": {},
          "execution_count": 18
        }
      ]
    },
    {
      "cell_type": "code",
      "source": [
        "a = 7 > 3\n",
        "print(a)\n",
        "type(a)"
      ],
      "metadata": {
        "colab": {
          "base_uri": "https://localhost:8080/"
        },
        "id": "EGpMyGkX0vv4",
        "outputId": "be1c2573-ac7c-4069-8fe8-8ee7aba74ac2"
      },
      "execution_count": 19,
      "outputs": [
        {
          "output_type": "stream",
          "name": "stdout",
          "text": [
            "True\n"
          ]
        },
        {
          "output_type": "execute_result",
          "data": {
            "text/plain": [
              "bool"
            ]
          },
          "metadata": {},
          "execution_count": 19
        }
      ]
    },
    {
      "cell_type": "markdown",
      "source": [
        "# String\n"
      ],
      "metadata": {
        "id": "Bvz6LHc406S8"
      }
    },
    {
      "cell_type": "code",
      "source": [
        "print(\" hello world\")"
      ],
      "metadata": {
        "colab": {
          "base_uri": "https://localhost:8080/"
        },
        "id": "Qd-58mJ700yz",
        "outputId": "06b16881-b145-454a-ec39-0a0ff97741e4"
      },
      "execution_count": 20,
      "outputs": [
        {
          "output_type": "stream",
          "name": "stdout",
          "text": [
            " hello world\n"
          ]
        }
      ]
    },
    {
      "cell_type": "code",
      "source": [
        "my_string = \"hello world\"\n",
        "print(my_string)\n",
        "type(my_string)"
      ],
      "metadata": {
        "colab": {
          "base_uri": "https://localhost:8080/"
        },
        "id": "dWEdUmr21Bic",
        "outputId": "da51834f-381f-48a4-ed14-efb2eaca10e5"
      },
      "execution_count": 25,
      "outputs": [
        {
          "output_type": "stream",
          "name": "stdout",
          "text": [
            "hello world\n"
          ]
        },
        {
          "output_type": "execute_result",
          "data": {
            "text/plain": [
              "str"
            ]
          },
          "metadata": {},
          "execution_count": 25
        }
      ]
    },
    {
      "cell_type": "code",
      "source": [
        "print(\"Hello How are you\" *3)               # * is use for multiplication"
      ],
      "metadata": {
        "colab": {
          "base_uri": "https://localhost:8080/"
        },
        "id": "02aWUElk1OYo",
        "outputId": "8665d89c-e75b-4255-9c13-bdf83bd6cab4"
      },
      "execution_count": 29,
      "outputs": [
        {
          "output_type": "stream",
          "name": "stdout",
          "text": [
            "Hello How are youHello How are youHello How are you\n"
          ]
        }
      ]
    },
    {
      "cell_type": "code",
      "source": [
        "my_string = \"Mahadevprasad\"\n",
        "print(my_string[1:5])   # values index 1 to 5-1 will be sliced"
      ],
      "metadata": {
        "colab": {
          "base_uri": "https://localhost:8080/"
        },
        "id": "LgstVw_G1k3_",
        "outputId": "0de91083-9973-46a5-da3a-f7c602cebc9b"
      },
      "execution_count": 30,
      "outputs": [
        {
          "output_type": "stream",
          "name": "stdout",
          "text": [
            "ahad\n"
          ]
        }
      ]
    },
    {
      "cell_type": "code",
      "source": [
        "# step\n",
        "print(my_string[0:7:2])"
      ],
      "metadata": {
        "colab": {
          "base_uri": "https://localhost:8080/"
        },
        "id": "PDqNvmV92Nrh",
        "outputId": "3ef9a0d5-151f-4b2a-b69d-1a6f9e4670cf"
      },
      "execution_count": 31,
      "outputs": [
        {
          "output_type": "stream",
          "name": "stdout",
          "text": [
            "Mhdv\n"
          ]
        }
      ]
    },
    {
      "cell_type": "markdown",
      "source": [
        "# String Concatenation\n"
      ],
      "metadata": {
        "id": "RqQDwjnS2ryW"
      }
    },
    {
      "cell_type": "code",
      "source": [
        "letter_1 = \"Hello\"\n",
        "letter_2 = \"World\"\n",
        "print(letter_1+letter_2)"
      ],
      "metadata": {
        "colab": {
          "base_uri": "https://localhost:8080/"
        },
        "id": "wcsvUUsF2hSd",
        "outputId": "cde2aaa9-2e80-4fe0-ca89-2797d28dde01"
      },
      "execution_count": 33,
      "outputs": [
        {
          "output_type": "stream",
          "name": "stdout",
          "text": [
            "HelloWorld\n"
          ]
        }
      ]
    },
    {
      "cell_type": "code",
      "source": [],
      "metadata": {
        "id": "cuPHE1rQ2_pH"
      },
      "execution_count": null,
      "outputs": []
    }
  ]
}